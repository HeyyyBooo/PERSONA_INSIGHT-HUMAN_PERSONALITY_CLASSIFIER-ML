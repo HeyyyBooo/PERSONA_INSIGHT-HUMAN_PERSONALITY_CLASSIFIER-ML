{
 "cells": [
  {
   "cell_type": "code",
   "execution_count": 1,
   "id": "80897c86",
   "metadata": {},
   "outputs": [],
   "source": [
    "import numpy as np\n",
    "import pandas as pd"
   ]
  },
  {
   "cell_type": "code",
   "execution_count": 4,
   "id": "0b0167b5",
   "metadata": {
    "scrolled": true
   },
   "outputs": [],
   "source": [
    "dataset = pd.read_csv(\"data.csv\", encoding='latin1')\n",
    "X = dataset.iloc[:, :-1].values\n",
    "y = dataset.iloc[:, -1].values"
   ]
  },
  {
   "cell_type": "code",
   "execution_count": 5,
   "id": "73b1a7d9",
   "metadata": {},
   "outputs": [
    {
     "name": "stdout",
     "output_type": "stream",
     "text": [
      "['ENFP' 'ISFP' 'INFJ' ... 'ISTP' 'ISTJ' 'INFJ']\n"
     ]
    }
   ],
   "source": [
    "print(y)"
   ]
  },
  {
   "cell_type": "code",
   "execution_count": 6,
   "id": "9501de9f",
   "metadata": {},
   "outputs": [
    {
     "name": "stdout",
     "output_type": "stream",
     "text": [
      "[[ 0  0  0 ...  0  0  0]\n",
      " [-2 -3 -1 ...  1 -1  3]\n",
      " [ 2  0 -1 ... -1  1  1]\n",
      " ...\n",
      " [ 1  0 -2 ...  2 -1 -1]\n",
      " [ 1 -1 -2 ...  0  0  0]\n",
      " [ 2  0 -1 ...  2  1 -1]]\n"
     ]
    }
   ],
   "source": [
    "print(X)"
   ]
  },
  {
   "cell_type": "code",
   "execution_count": 7,
   "id": "fad8ece0",
   "metadata": {},
   "outputs": [],
   "source": [
    "from sklearn.preprocessing import LabelEncoder\n",
    "le = LabelEncoder()\n",
    "y_new = le.fit_transform(y)"
   ]
  },
  {
   "cell_type": "code",
   "execution_count": 8,
   "id": "27b350ea",
   "metadata": {},
   "outputs": [
    {
     "name": "stdout",
     "output_type": "stream",
     "text": [
      "[ 1 13  8 ... 15 14  8]\n"
     ]
    }
   ],
   "source": [
    "print(y_new)"
   ]
  },
  {
   "cell_type": "code",
   "execution_count": 69,
   "id": "9ee1bc02",
   "metadata": {
    "scrolled": false
   },
   "outputs": [
    {
     "name": "stdout",
     "output_type": "stream",
     "text": [
      "['ESTJ' 'ISFP' 'ESFJ' 'ISTJ' 'ESTJ' 'ESTJ' 'ISFJ' 'ESFP' 'ENFP' 'ESFJ'\n",
      " 'ISTP' 'ENTP' 'INFP']\n"
     ]
    }
   ],
   "source": [
    "print(y[47:60])"
   ]
  },
  {
   "cell_type": "code",
   "execution_count": 70,
   "id": "a2241b38",
   "metadata": {
    "scrolled": true
   },
   "outputs": [
    {
     "name": "stdout",
     "output_type": "stream",
     "text": [
      "[ 6 13  4 14  6  6 12  5  1  4 15  3  9]\n"
     ]
    }
   ],
   "source": [
    "print(y_new[47:60])"
   ]
  },
  {
   "cell_type": "code",
   "execution_count": 17,
   "id": "67a1214d",
   "metadata": {},
   "outputs": [],
   "source": [
    "from sklearn.model_selection import train_test_split\n",
    "X_train, X_test, y_train, y_test = train_test_split(X, y_new, test_size = 0.25, random_state = 0)"
   ]
  },
  {
   "cell_type": "code",
   "execution_count": 60,
   "id": "c75981e0",
   "metadata": {},
   "outputs": [
    {
     "data": {
      "text/html": [
       "<style>#sk-container-id-15 {color: black;}#sk-container-id-15 pre{padding: 0;}#sk-container-id-15 div.sk-toggleable {background-color: white;}#sk-container-id-15 label.sk-toggleable__label {cursor: pointer;display: block;width: 100%;margin-bottom: 0;padding: 0.3em;box-sizing: border-box;text-align: center;}#sk-container-id-15 label.sk-toggleable__label-arrow:before {content: \"▸\";float: left;margin-right: 0.25em;color: #696969;}#sk-container-id-15 label.sk-toggleable__label-arrow:hover:before {color: black;}#sk-container-id-15 div.sk-estimator:hover label.sk-toggleable__label-arrow:before {color: black;}#sk-container-id-15 div.sk-toggleable__content {max-height: 0;max-width: 0;overflow: hidden;text-align: left;background-color: #f0f8ff;}#sk-container-id-15 div.sk-toggleable__content pre {margin: 0.2em;color: black;border-radius: 0.25em;background-color: #f0f8ff;}#sk-container-id-15 input.sk-toggleable__control:checked~div.sk-toggleable__content {max-height: 200px;max-width: 100%;overflow: auto;}#sk-container-id-15 input.sk-toggleable__control:checked~label.sk-toggleable__label-arrow:before {content: \"▾\";}#sk-container-id-15 div.sk-estimator input.sk-toggleable__control:checked~label.sk-toggleable__label {background-color: #d4ebff;}#sk-container-id-15 div.sk-label input.sk-toggleable__control:checked~label.sk-toggleable__label {background-color: #d4ebff;}#sk-container-id-15 input.sk-hidden--visually {border: 0;clip: rect(1px 1px 1px 1px);clip: rect(1px, 1px, 1px, 1px);height: 1px;margin: -1px;overflow: hidden;padding: 0;position: absolute;width: 1px;}#sk-container-id-15 div.sk-estimator {font-family: monospace;background-color: #f0f8ff;border: 1px dotted black;border-radius: 0.25em;box-sizing: border-box;margin-bottom: 0.5em;}#sk-container-id-15 div.sk-estimator:hover {background-color: #d4ebff;}#sk-container-id-15 div.sk-parallel-item::after {content: \"\";width: 100%;border-bottom: 1px solid gray;flex-grow: 1;}#sk-container-id-15 div.sk-label:hover label.sk-toggleable__label {background-color: #d4ebff;}#sk-container-id-15 div.sk-serial::before {content: \"\";position: absolute;border-left: 1px solid gray;box-sizing: border-box;top: 0;bottom: 0;left: 50%;z-index: 0;}#sk-container-id-15 div.sk-serial {display: flex;flex-direction: column;align-items: center;background-color: white;padding-right: 0.2em;padding-left: 0.2em;position: relative;}#sk-container-id-15 div.sk-item {position: relative;z-index: 1;}#sk-container-id-15 div.sk-parallel {display: flex;align-items: stretch;justify-content: center;background-color: white;position: relative;}#sk-container-id-15 div.sk-item::before, #sk-container-id-15 div.sk-parallel-item::before {content: \"\";position: absolute;border-left: 1px solid gray;box-sizing: border-box;top: 0;bottom: 0;left: 50%;z-index: -1;}#sk-container-id-15 div.sk-parallel-item {display: flex;flex-direction: column;z-index: 1;position: relative;background-color: white;}#sk-container-id-15 div.sk-parallel-item:first-child::after {align-self: flex-end;width: 50%;}#sk-container-id-15 div.sk-parallel-item:last-child::after {align-self: flex-start;width: 50%;}#sk-container-id-15 div.sk-parallel-item:only-child::after {width: 0;}#sk-container-id-15 div.sk-dashed-wrapped {border: 1px dashed gray;margin: 0 0.4em 0.5em 0.4em;box-sizing: border-box;padding-bottom: 0.4em;background-color: white;}#sk-container-id-15 div.sk-label label {font-family: monospace;font-weight: bold;display: inline-block;line-height: 1.2em;}#sk-container-id-15 div.sk-label-container {text-align: center;}#sk-container-id-15 div.sk-container {/* jupyter's `normalize.less` sets `[hidden] { display: none; }` but bootstrap.min.css set `[hidden] { display: none !important; }` so we also need the `!important` here to be able to override the default hidden behavior on the sphinx rendered scikit-learn.org. See: https://github.com/scikit-learn/scikit-learn/issues/21755 */display: inline-block !important;position: relative;}#sk-container-id-15 div.sk-text-repr-fallback {display: none;}</style><div id=\"sk-container-id-15\" class=\"sk-top-container\"><div class=\"sk-text-repr-fallback\"><pre>KNeighborsClassifier(n_neighbors=40)</pre><b>In a Jupyter environment, please rerun this cell to show the HTML representation or trust the notebook. <br />On GitHub, the HTML representation is unable to render, please try loading this page with nbviewer.org.</b></div><div class=\"sk-container\" hidden><div class=\"sk-item\"><div class=\"sk-estimator sk-toggleable\"><input class=\"sk-toggleable__control sk-hidden--visually\" id=\"sk-estimator-id-15\" type=\"checkbox\" checked><label for=\"sk-estimator-id-15\" class=\"sk-toggleable__label sk-toggleable__label-arrow\">KNeighborsClassifier</label><div class=\"sk-toggleable__content\"><pre>KNeighborsClassifier(n_neighbors=40)</pre></div></div></div></div></div>"
      ],
      "text/plain": [
       "KNeighborsClassifier(n_neighbors=40)"
      ]
     },
     "execution_count": 60,
     "metadata": {},
     "output_type": "execute_result"
    }
   ],
   "source": [
    "from sklearn.neighbors import KNeighborsClassifier\n",
    "classifier = KNeighborsClassifier(n_neighbors = 40, metric = 'minkowski', p = 2)\n",
    "classifier.fit(X_train, y_train)"
   ]
  },
  {
   "cell_type": "code",
   "execution_count": 61,
   "id": "730ea1b1",
   "metadata": {},
   "outputs": [
    {
     "name": "stdout",
     "output_type": "stream",
     "text": [
      "[[ 6  6]\n",
      " [10 10]\n",
      " [ 8  8]\n",
      " ...\n",
      " [ 9  3]\n",
      " [ 4  4]\n",
      " [ 3  3]]\n"
     ]
    }
   ],
   "source": [
    "y_pred = classifier.predict(X_test)\n",
    "print(np.concatenate((y_pred.reshape(len(y_pred),1), y_test.reshape(len(y_test),1)),1))"
   ]
  },
  {
   "cell_type": "code",
   "execution_count": 20,
   "id": "d31a83de",
   "metadata": {},
   "outputs": [
    {
     "name": "stdout",
     "output_type": "stream",
     "text": [
      "[[905   2   0   3   1   1   0   0   0   1   1   3   1   3   0   1]\n",
      " [  3 949   0   1   1   0   2   0   0   2   2   2   2   1   0   1]\n",
      " [  0   0 887   2   2   0   0   3   1   4   0   0   1   0   1   0]\n",
      " [  0   1   0 900   1   2   3   2   2   3   0   3   1   2   1   1]\n",
      " [  1   0   0   0 871   1   0   1   7   3   1   1   0   0   0   1]\n",
      " [  0   0   3   0   1 917   1   0   3   1   2   1   3   3   1   0]\n",
      " [  1   1   3   0   2   2 936   1   1   2   0   2   0   1   0   1]\n",
      " [  0   1   3   1   2   1   1 929   0   2   1   1   1   0   1   0]\n",
      " [  0   1   3   3   2   4   2   2 874   2   4   8   2   0   0   1]\n",
      " [  1   0   9   1   1   0   2   0   0 888   0   0   2   1   0   2]\n",
      " [  2   0   1   1   2   3   0   1   0   3 900   1   2   2   1   0]\n",
      " [  2   3   3   1   4   1   0   1   2   0   1 941   1   2   1   1]\n",
      " [  3   0   0   0   0   3   2   4   1   0   1   2 935   1   0   4]\n",
      " [  0   1   0   0   3   0   1   1   1   0   5   2   1 967   0   1]\n",
      " [  0   0   1   0   1   0   0   1   2   2   1   2   2   1 966   2]\n",
      " [  1   0   3   0   2   1   1   1   1   1   0   1   2   2   7 928]]\n"
     ]
    },
    {
     "data": {
      "text/plain": [
       "0.9795333333333334"
      ]
     },
     "execution_count": 20,
     "metadata": {},
     "output_type": "execute_result"
    }
   ],
   "source": [
    "#7\n",
    "from sklearn.metrics import confusion_matrix, accuracy_score\n",
    "cm = confusion_matrix(y_test, y_pred)\n",
    "print(cm)\n",
    "accuracy_score(y_test, y_pred)"
   ]
  },
  {
   "cell_type": "code",
   "execution_count": 23,
   "id": "fc3685a1",
   "metadata": {},
   "outputs": [
    {
     "name": "stdout",
     "output_type": "stream",
     "text": [
      "[[906   2   1   2   1   1   0   0   0   1   2   3   0   2   0   1]\n",
      " [  3 949   0   1   1   0   2   0   0   2   0   3   2   2   0   1]\n",
      " [  0   0 886   2   2   0   0   3   1   5   0   0   1   0   1   0]\n",
      " [  0   1   0 899   1   2   4   2   2   3   0   3   1   2   1   1]\n",
      " [  0   2   0   1 870   1   0   1   4   2   2   2   0   1   0   1]\n",
      " [  0   0   3   0   2 916   1   0   2   1   2   1   3   3   2   0]\n",
      " [  1   1   2   0   2   2 938   1   1   2   0   2   0   1   0   0]\n",
      " [  0   1   3   2   3   1   1 927   1   2   0   1   1   0   1   0]\n",
      " [  0   1   3   4   2   6   3   3 870   2   4   7   2   0   0   1]\n",
      " [  2   0  11   1   1   0   2   0   0 885   0   0   1   2   0   2]\n",
      " [  1   0   2   2   3   3   0   2   1   3 895   1   3   2   1   0]\n",
      " [  3   3   5   1   4   1   0   1   3   0   0 939   1   1   1   1]\n",
      " [  4   0   0   0   0   3   3   3   2   0   2   2 929   2   0   6]\n",
      " [  0   1   0   0   1   2   2   1   2   0   5   4   1 962   0   2]\n",
      " [  0   0   3   0   2   0   0   1   2   3   1   2   2   0 962   3]\n",
      " [  0   0   2   0   3   2   1   2   1   2   0   2   2   1   7 926]]\n"
     ]
    },
    {
     "data": {
      "text/plain": [
       "0.9772666666666666"
      ]
     },
     "execution_count": 23,
     "metadata": {},
     "output_type": "execute_result"
    }
   ],
   "source": [
    "#5\n",
    "from sklearn.metrics import confusion_matrix, accuracy_score\n",
    "cm = confusion_matrix(y_test, y_pred)\n",
    "print(cm)\n",
    "accuracy_score(y_test, y_pred)"
   ]
  },
  {
   "cell_type": "code",
   "execution_count": 29,
   "id": "390f3a6e",
   "metadata": {
    "scrolled": true
   },
   "outputs": [
    {
     "name": "stdout",
     "output_type": "stream",
     "text": [
      "[[905   2   0   2   2   0   0   0   0   1   1   3   1   3   0   2]\n",
      " [  3 950   0   1   1   0   2   0   0   2   2   1   2   1   0   1]\n",
      " [  0   0 887   2   2   0   0   3   1   4   0   0   1   0   1   0]\n",
      " [  0   1   0 902   1   2   2   2   2   3   0   2   1   2   1   1]\n",
      " [  0   0   0   0 871   1   1   1   6   3   1   2   0   0   0   1]\n",
      " [  0   1   4   0   1 916   1   0   1   1   2   1   3   3   1   1]\n",
      " [  1   1   2   0   3   2 939   1   1   1   0   1   0   1   0   0]\n",
      " [  0   1   3   1   2   2   0 929   0   2   1   1   1   0   1   0]\n",
      " [  0   1   3   3   2   5   1   2 875   2   4   7   2   0   0   1]\n",
      " [  1   0   9   1   0   0   1   0   0 890   0   0   2   1   0   2]\n",
      " [  1   0   1   2   2   2   0   1   0   3 900   1   2   2   2   0]\n",
      " [  2   4   3   1   4   1   0   1   1   0   0 943   1   1   1   1]\n",
      " [  3   0   0   0   0   2   3   3   1   0   1   2 937   1   0   3]\n",
      " [  0   2   0   0   2   1   1   0   1   0   4   2   0 967   1   2]\n",
      " [  0   0   1   0   1   0   0   1   2   1   1   1   2   1 968   2]\n",
      " [  1   0   3   0   4   2   1   1   0   2   0   1   2   2   8 924]]\n"
     ]
    },
    {
     "data": {
      "text/plain": [
       "0.9802"
      ]
     },
     "execution_count": 29,
     "metadata": {},
     "output_type": "execute_result"
    }
   ],
   "source": [
    "#10\n",
    "from sklearn.metrics import confusion_matrix, accuracy_score\n",
    "cm = confusion_matrix(y_test, y_pred)\n",
    "print(cm)\n",
    "accuracy_score(y_test, y_pred)"
   ]
  },
  {
   "cell_type": "code",
   "execution_count": 32,
   "id": "58d30a93",
   "metadata": {
    "scrolled": true
   },
   "outputs": [
    {
     "name": "stdout",
     "output_type": "stream",
     "text": [
      "[[905   2   1   2   1   0   0   0   0   1   2   3   1   3   0   1]\n",
      " [  3 948   0   1   1   0   2   0   0   2   2   3   2   1   0   1]\n",
      " [  0   0 887   2   2   0   0   3   1   4   0   0   1   0   1   0]\n",
      " [  0   1   0 901   1   2   3   2   2   3   0   2   1   2   1   1]\n",
      " [  0   0   0   0 873   1   0   1   5   3   1   2   0   0   0   1]\n",
      " [  0   1   4   0   0 918   1   0   1   1   2   1   3   3   1   0]\n",
      " [  1   1   2   1   3   2 937   1   1   2   0   1   0   0   0   1]\n",
      " [  0   1   3   1   2   2   0 930   0   2   0   1   1   0   1   0]\n",
      " [  0   2   3   3   2   6   1   2 871   2   3   8   4   0   0   1]\n",
      " [  1   0   8   1   0   0   1   0   0 890   0   0   3   1   0   2]\n",
      " [  1   1   0   1   2   2   0   1   0   3 900   1   2   3   2   0]\n",
      " [  2   4   3   1   3   1   0   1   1   0   0 944   1   1   1   1]\n",
      " [  4   0   0   0   0   2   3   3   1   0   2   2 934   2   0   3]\n",
      " [  0   1   0   0   2   2   1   0   1   0   4   1   0 969   0   2]\n",
      " [  0   0   1   0   2   0   0   0   2   2   1   1   2   0 968   2]\n",
      " [  1   0   3   0   4   1   1   1   0   1   0   1   3   1   8 926]]\n"
     ]
    },
    {
     "data": {
      "text/plain": [
       "0.9800666666666666"
      ]
     },
     "execution_count": 32,
     "metadata": {},
     "output_type": "execute_result"
    }
   ],
   "source": [
    "#13\n",
    "from sklearn.metrics import confusion_matrix, accuracy_score\n",
    "cm = confusion_matrix(y_test, y_pred)\n",
    "print(cm)\n",
    "accuracy_score(y_test, y_pred)"
   ]
  },
  {
   "cell_type": "code",
   "execution_count": 35,
   "id": "d0e38b1a",
   "metadata": {},
   "outputs": [
    {
     "name": "stdout",
     "output_type": "stream",
     "text": [
      "[[908   2   1   2   1   0   0   0   0   1   1   3   0   2   0   1]\n",
      " [  2 950   0   1   1   0   2   0   0   3   1   2   2   1   0   1]\n",
      " [  0   0 886   2   3   0   0   3   1   4   0   0   1   0   1   0]\n",
      " [  0   1   0 900   2   2   3   2   2   3   0   2   1   2   1   1]\n",
      " [  0   0   0   0 873   1   0   1   6   2   1   1   0   1   0   1]\n",
      " [  0   0   3   0   0 920   1   0   1   1   1   1   4   3   1   0]\n",
      " [  1   1   1   2   2   2 938   1   1   1   0   2   0   0   0   1]\n",
      " [  0   1   3   1   2   1   0 930   0   2   1   1   1   0   1   0]\n",
      " [  0   2   3   3   2   4   1   3 874   2   3   8   2   0   0   1]\n",
      " [  1   0   9   1   1   0   1   0   0 889   0   0   2   1   0   2]\n",
      " [  1   1   1   1   2   2   0   1   1   3 899   1   3   2   1   0]\n",
      " [  2   3   4   1   3   1   0   1   1   0   0 943   1   2   1   1]\n",
      " [  4   0   0   0   0   1   1   3   1   1   1   2 937   2   0   3]\n",
      " [  0   2   1   1   2   1   1   0   1   0   4   1   0 967   0   2]\n",
      " [  0   0   1   0   0   0   0   0   2   2   1   1   2   0 971   1]\n",
      " [  1   0   2   1   4   1   1   1   0   2   0   1   2   1   7 927]]\n"
     ]
    },
    {
     "data": {
      "text/plain": [
       "0.9808"
      ]
     },
     "execution_count": 35,
     "metadata": {},
     "output_type": "execute_result"
    }
   ],
   "source": [
    "#17\n",
    "from sklearn.metrics import confusion_matrix, accuracy_score\n",
    "cm = confusion_matrix(y_test, y_pred)\n",
    "print(cm)\n",
    "accuracy_score(y_test, y_pred)"
   ]
  },
  {
   "cell_type": "code",
   "execution_count": 38,
   "id": "d876409d",
   "metadata": {},
   "outputs": [
    {
     "name": "stdout",
     "output_type": "stream",
     "text": [
      "[[908   1   1   2   2   0   0   0   0   1   1   2   0   2   0   2]\n",
      " [  2 950   0   1   1   0   2   0   0   3   1   2   2   1   0   1]\n",
      " [  0   0 887   2   3   0   0   2   1   4   0   0   1   0   1   0]\n",
      " [  0   0   0 903   1   2   1   2   2   4   0   2   1   2   1   1]\n",
      " [  0   0   1   0 874   1   0   1   3   2   1   2   0   1   0   1]\n",
      " [  0   1   3   0   0 919   1   0   1   1   1   1   4   3   1   0]\n",
      " [  1   1   1   1   2   2 939   1   1   1   0   2   0   0   0   1]\n",
      " [  0   1   3   1   2   1   0 931   0   2   1   0   1   0   1   0]\n",
      " [  0   2   3   3   2   4   1   3 873   2   3   8   3   0   0   1]\n",
      " [  1   0   8   1   1   0   1   0   0 891   0   0   1   1   0   2]\n",
      " [  0   1   1   1   1   2   0   1   1   3 900   1   3   3   1   0]\n",
      " [  2   4   3   1   3   1   0   1   1   0   0 943   1   2   1   1]\n",
      " [  3   0   0   0   0   1   2   3   2   1   1   2 936   2   0   3]\n",
      " [  0   1   0   1   2   1   1   0   1   0   4   2   1 967   0   2]\n",
      " [  0   0   1   0   0   0   0   0   2   2   1   1   2   0 971   1]\n",
      " [  1   0   2   1   4   1   1   1   0   2   0   1   2   1   8 926]]\n"
     ]
    },
    {
     "data": {
      "text/plain": [
       "0.9812"
      ]
     },
     "execution_count": 38,
     "metadata": {},
     "output_type": "execute_result"
    }
   ],
   "source": [
    "#20\n",
    "from sklearn.metrics import confusion_matrix, accuracy_score\n",
    "cm = confusion_matrix(y_test, y_pred)\n",
    "print(cm)\n",
    "accuracy_score(y_test, y_pred)"
   ]
  },
  {
   "cell_type": "code",
   "execution_count": 41,
   "id": "41d98e21",
   "metadata": {},
   "outputs": [
    {
     "name": "stdout",
     "output_type": "stream",
     "text": [
      "[[908   2   2   2   1   0   0   0   0   1   1   2   0   2   0   1]\n",
      " [  2 950   0   1   1   0   2   0   0   3   1   2   2   1   0   1]\n",
      " [  0   0 885   2   3   0   1   3   1   4   0   0   1   0   1   0]\n",
      " [  0   0   0 902   1   2   3   2   2   3   0   2   1   2   1   1]\n",
      " [  0   1   0   0 872   1   0   2   5   2   1   1   0   1   0   1]\n",
      " [  0   1   3   0   0 917   1   0   1   1   2   1   4   3   1   1]\n",
      " [  1   1   0   1   2   2 939   1   1   2   0   2   0   0   0   1]\n",
      " [  0   1   3   1   2   1   0 931   0   2   1   0   1   0   1   0]\n",
      " [  0   2   3   3   2   4   2   2 873   2   3   8   2   1   0   1]\n",
      " [  2   0  10   1   1   0   1   0   0 887   0   0   2   1   0   2]\n",
      " [  0   1   1   1   3   1   0   1   0   3 899   1   3   3   2   0]\n",
      " [  2   4   4   1   3   1   0   1   1   0   0 943   1   1   1   1]\n",
      " [  3   0   0   0   0   1   2   3   2   0   2   1 938   1   0   3]\n",
      " [  0   1   1   1   2   1   1   0   1   0   4   1   0 968   0   2]\n",
      " [  0   0   1   0   1   0   0   0   1   2   1   1   2   0 970   2]\n",
      " [  1   0   2   1   3   2   1   1   0   2   0   1   2   1   8 926]]\n"
     ]
    },
    {
     "data": {
      "text/plain": [
       "0.9805333333333334"
      ]
     },
     "execution_count": 41,
     "metadata": {},
     "output_type": "execute_result"
    }
   ],
   "source": [
    "#25\n",
    "from sklearn.metrics import confusion_matrix, accuracy_score\n",
    "cm = confusion_matrix(y_test, y_pred)\n",
    "print(cm)\n",
    "accuracy_score(y_test, y_pred)"
   ]
  },
  {
   "cell_type": "code",
   "execution_count": 44,
   "id": "451c90d7",
   "metadata": {
    "scrolled": true
   },
   "outputs": [
    {
     "name": "stdout",
     "output_type": "stream",
     "text": [
      "[[907   2   1   2   1   0   0   0   1   1   1   2   1   2   0   1]\n",
      " [  3 949   0   1   1   0   2   0   0   3   1   2   2   1   0   1]\n",
      " [  0   0 886   2   3   0   1   2   1   4   0   0   1   0   1   0]\n",
      " [  0   0   0 903   1   2   2   2   2   3   0   2   1   2   1   1]\n",
      " [  1   0   0   0 872   1   1   1   5   3   1   1   0   0   0   1]\n",
      " [  0   1   3   0   0 915   1   0   1   1   4   1   5   3   1   0]\n",
      " [  1   1   0   1   2   2 938   1   1   3   0   2   0   0   0   1]\n",
      " [  0   2   3   1   2   2   0 929   0   2   1   0   1   0   1   0]\n",
      " [  0   1   3   3   2   5   1   2 877   2   2   7   2   0   0   1]\n",
      " [  1   0   9   1   1   0   1   0   0 891   0   0   0   1   0   2]\n",
      " [  0   1   1   1   2   2   0   1   1   3 901   1   2   2   1   0]\n",
      " [  2   3   3   1   4   1   0   1   2   0   0 942   1   1   1   2]\n",
      " [  3   0   0   0   0   2   1   3   2   0   1   1 937   2   0   4]\n",
      " [  0   1   0   0   2   1   1   0   1   0   5   1   1 968   0   2]\n",
      " [  0   0   0   0   1   0   0   0   2   2   1   1   2   0 970   2]\n",
      " [  2   0   3   1   3   1   1   1   1   2   0   1   2   2   6 925]]\n"
     ]
    },
    {
     "data": {
      "text/plain": [
       "0.9806666666666667"
      ]
     },
     "execution_count": 44,
     "metadata": {},
     "output_type": "execute_result"
    }
   ],
   "source": [
    "#40\n",
    "from sklearn.metrics import confusion_matrix, accuracy_score\n",
    "cm = confusion_matrix(y_test, y_pred)\n",
    "print(cm)\n",
    "accuracy_score(y_test, y_pred)"
   ]
  },
  {
   "cell_type": "code",
   "execution_count": 47,
   "id": "298cd47e",
   "metadata": {
    "scrolled": true
   },
   "outputs": [
    {
     "name": "stdout",
     "output_type": "stream",
     "text": [
      "[[904   2   2   3   1   0   0   0   1   1   1   2   1   2   0   2]\n",
      " [  3 947   0   1   1   0   2   0   0   3   1   4   2   1   0   1]\n",
      " [  0   0 886   2   3   0   0   3   1   4   0   0   1   0   1   0]\n",
      " [  0   0   0 903   1   2   2   2   2   3   0   2   1   2   1   1]\n",
      " [  1   0   0   0 869   1   1   3   5   3   1   2   0   0   0   1]\n",
      " [  0   1   3   0   0 917   1   0   1   1   3   1   4   3   1   0]\n",
      " [  1   1   1   1   3   2 939   1   1   2   0   1   0   0   0   0]\n",
      " [  0   2   3   1   2   2   0 929   0   2   1   0   1   0   1   0]\n",
      " [  0   2   3   3   2   4   2   2 875   2   2   7   3   0   0   1]\n",
      " [  1   0   9   1   1   0   1   0   0 889   0   0   1   1   1   2]\n",
      " [  0   1   1   1   3   2   0   1   1   3 898   1   4   2   1   0]\n",
      " [  2   4   4   1   3   1   0   1   2   0   0 941   1   1   1   2]\n",
      " [  3   0   0   1   0   2   1   3   2   0   1   2 936   2   0   3]\n",
      " [  0   2   0   0   2   1   1   0   1   0   5   2   0 967   0   2]\n",
      " [  1   0   0   0   1   1   0   0   2   2   0   1   1   1 969   2]\n",
      " [  3   0   2   1   3   1   1   1   1   2   0   1   2   2   6 925]]\n"
     ]
    },
    {
     "data": {
      "text/plain": [
       "0.9796"
      ]
     },
     "execution_count": 47,
     "metadata": {},
     "output_type": "execute_result"
    }
   ],
   "source": [
    "#64\n",
    "from sklearn.metrics import confusion_matrix, accuracy_score\n",
    "cm = confusion_matrix(y_test, y_pred)\n",
    "print(cm)\n",
    "accuracy_score(y_test, y_pred)"
   ]
  },
  {
   "cell_type": "code",
   "execution_count": 50,
   "id": "288b889b",
   "metadata": {},
   "outputs": [
    {
     "name": "stdout",
     "output_type": "stream",
     "text": [
      "[[907   2   1   2   1   0   0   0   1   1   1   2   1   2   0   1]\n",
      " [  3 948   0   1   1   0   2   0   0   3   1   3   2   1   0   1]\n",
      " [  0   0 885   2   3   0   1   3   1   4   0   0   1   0   1   0]\n",
      " [  0   0   0 902   1   2   3   2   2   3   0   2   1   2   1   1]\n",
      " [  1   0   0   0 871   1   1   1   6   3   1   1   0   0   0   1]\n",
      " [  0   0   3   0   0 918   1   0   1   1   3   1   4   3   1   0]\n",
      " [  1   1   1   1   3   2 939   1   1   2   0   1   0   0   0   0]\n",
      " [  0   2   3   1   2   2   0 929   0   2   1   0   1   0   1   0]\n",
      " [  0   2   3   3   2   5   2   2 873   2   2   8   3   0   0   1]\n",
      " [  1   0   9   1   1   0   1   0   0 890   0   0   0   2   0   2]\n",
      " [  0   1   1   1   2   2   0   1   1   3 900   1   3   2   1   0]\n",
      " [  2   4   3   1   3   1   0   1   2   0   0 942   1   1   1   2]\n",
      " [  3   0   0   1   0   2   1   3   2   0   1   2 936   2   0   3]\n",
      " [  0   2   0   0   2   1   1   0   1   0   6   2   0 966   0   2]\n",
      " [  1   0   0   0   1   0   0   0   2   2   1   1   1   1 969   2]\n",
      " [  2   0   3   1   3   1   1   1   1   1   0   1   2   1   6 927]]\n"
     ]
    },
    {
     "data": {
      "text/plain": [
       "0.9801333333333333"
      ]
     },
     "execution_count": 50,
     "metadata": {},
     "output_type": "execute_result"
    }
   ],
   "source": [
    "#50\n",
    "from sklearn.metrics import confusion_matrix, accuracy_score\n",
    "cm = confusion_matrix(y_test, y_pred)\n",
    "print(cm)\n",
    "accuracy_score(y_test, y_pred)"
   ]
  },
  {
   "cell_type": "code",
   "execution_count": 53,
   "id": "eaa69dd9",
   "metadata": {},
   "outputs": [
    {
     "name": "stdout",
     "output_type": "stream",
     "text": [
      "[[907   2   1   2   1   0   0   0   1   1   1   2   1   2   0   1]\n",
      " [  3 949   0   1   1   0   2   0   0   3   1   2   2   1   0   1]\n",
      " [  0   0 886   2   3   0   1   2   1   4   0   0   1   0   1   0]\n",
      " [  0   0   0 902   1   2   2   2   2   3   0   2   1   3   1   1]\n",
      " [  1   0   0   0 869   1   1   2   6   3   1   2   0   0   0   1]\n",
      " [  0   0   3   0   0 916   1   0   1   1   4   1   5   3   1   0]\n",
      " [  1   1   0   1   3   2 939   1   1   3   0   1   0   0   0   0]\n",
      " [  0   2   3   1   2   2   0 929   0   2   1   0   1   0   1   0]\n",
      " [  0   2   3   3   2   3   2   2 876   2   2   7   3   0   0   1]\n",
      " [  1   0   8   1   1   0   1   0   0 890   0   0   0   2   1   2]\n",
      " [  0   1   1   1   2   2   0   1   1   3 901   1   2   2   1   0]\n",
      " [  2   4   3   1   4   1   0   1   2   0   0 941   1   1   1   2]\n",
      " [  3   0   0   0   0   2   1   3   1   0   2   1 938   2   0   3]\n",
      " [  0   2   0   0   2   1   1   0   1   0   7   3   0 964   0   2]\n",
      " [  0   0   0   0   1   0   0   0   2   2   1   1   2   1 969   2]\n",
      " [  2   0   3   1   3   1   1   1   1   2   0   1   2   1   6 926]]\n"
     ]
    },
    {
     "data": {
      "text/plain": [
       "0.9801333333333333"
      ]
     },
     "execution_count": 53,
     "metadata": {},
     "output_type": "execute_result"
    }
   ],
   "source": [
    "#45\n",
    "from sklearn.metrics import confusion_matrix, accuracy_score\n",
    "cm = confusion_matrix(y_test, y_pred)\n",
    "print(cm)\n",
    "accuracy_score(y_test, y_pred)"
   ]
  },
  {
   "cell_type": "code",
   "execution_count": 56,
   "id": "0baf169d",
   "metadata": {},
   "outputs": [
    {
     "name": "stdout",
     "output_type": "stream",
     "text": [
      "[[906   2   1   2   1   0   0   0   1   1   1   2   0   3   0   2]\n",
      " [  3 949   0   1   1   0   2   0   0   3   1   2   2   1   0   1]\n",
      " [  0   0 886   2   3   0   1   2   1   4   0   0   1   0   1   0]\n",
      " [  0   0   0 903   1   2   2   2   2   3   0   2   1   2   1   1]\n",
      " [  1   0   0   0 871   1   1   1   6   3   1   1   0   0   0   1]\n",
      " [  0   0   3   0   0 915   1   0   1   1   4   1   5   3   1   1]\n",
      " [  1   1   0   1   3   2 939   1   1   3   0   1   0   0   0   0]\n",
      " [  0   2   3   1   2   2   0 929   0   2   1   0   1   0   1   0]\n",
      " [  0   2   3   3   2   3   2   2 877   2   2   7   2   0   0   1]\n",
      " [  1   0   9   1   1   0   1   0   0 891   0   0   0   1   0   2]\n",
      " [  0   1   1   1   2   2   0   1   1   3 901   1   2   2   1   0]\n",
      " [  2   3   3   1   4   1   0   1   2   0   0 942   1   1   1   2]\n",
      " [  3   0   0   0   0   2   1   3   2   0   1   2 937   2   0   3]\n",
      " [  0   2   0   0   2   1   1   0   1   0   6   2   1 965   0   2]\n",
      " [  0   0   0   0   1   0   0   0   1   2   1   1   2   0 971   2]\n",
      " [  2   0   3   1   3   1   1   1   1   2   0   1   2   1   6 926]]\n"
     ]
    },
    {
     "data": {
      "text/plain": [
       "0.9805333333333334"
      ]
     },
     "execution_count": 56,
     "metadata": {},
     "output_type": "execute_result"
    }
   ],
   "source": [
    "#42\n",
    "from sklearn.metrics import confusion_matrix, accuracy_score\n",
    "cm = confusion_matrix(y_test, y_pred)\n",
    "print(cm)\n",
    "accuracy_score(y_test, y_pred)"
   ]
  },
  {
   "cell_type": "code",
   "execution_count": 59,
   "id": "3be3e3ab",
   "metadata": {},
   "outputs": [
    {
     "name": "stdout",
     "output_type": "stream",
     "text": [
      "[[907   2   1   2   1   0   0   0   1   1   1   2   1   2   0   1]\n",
      " [  3 948   0   1   1   0   2   0   0   3   1   3   2   1   0   1]\n",
      " [  0   0 886   2   3   0   1   2   1   4   0   0   1   0   1   0]\n",
      " [  0   0   0 903   1   2   2   2   2   3   0   2   1   2   1   1]\n",
      " [  1   0   0   0 871   1   1   1   6   3   1   1   0   0   0   1]\n",
      " [  0   0   3   0   0 915   1   0   1   1   4   1   5   3   1   1]\n",
      " [  1   1   0   1   3   2 939   1   1   3   0   1   0   0   0   0]\n",
      " [  0   2   3   1   2   2   0 929   0   2   1   0   1   0   1   0]\n",
      " [  0   1   4   3   2   4   1   2 877   2   2   7   2   0   0   1]\n",
      " [  1   0   9   1   1   0   1   0   0 891   0   0   0   1   0   2]\n",
      " [  0   1   1   1   2   2   0   1   1   3 901   1   2   2   1   0]\n",
      " [  2   4   4   1   4   1   0   1   2   0   0 940   1   1   1   2]\n",
      " [  3   0   0   0   0   2   1   3   2   0   1   1 937   2   0   4]\n",
      " [  0   1   0   0   2   1   1   0   1   0   6   2   1 966   0   2]\n",
      " [  0   0   0   0   1   0   0   0   1   2   1   1   2   0 971   2]\n",
      " [  2   0   3   1   3   1   1   1   1   2   0   1   2   1   6 926]]\n"
     ]
    },
    {
     "data": {
      "text/plain": [
       "0.9804666666666667"
      ]
     },
     "execution_count": 59,
     "metadata": {},
     "output_type": "execute_result"
    }
   ],
   "source": [
    "#41\n",
    "from sklearn.metrics import confusion_matrix, accuracy_score\n",
    "cm = confusion_matrix(y_test, y_pred)\n",
    "print(cm)\n",
    "accuracy_score(y_test, y_pred)"
   ]
  },
  {
   "cell_type": "code",
   "execution_count": 62,
   "id": "fe439951",
   "metadata": {},
   "outputs": [
    {
     "name": "stdout",
     "output_type": "stream",
     "text": [
      "[[907   2   1   2   1   0   0   0   1   1   1   2   1   2   0   1]\n",
      " [  3 949   0   1   1   0   2   0   0   3   1   2   2   1   0   1]\n",
      " [  0   0 886   2   3   0   1   2   1   4   0   0   1   0   1   0]\n",
      " [  0   0   0 903   1   2   2   2   2   3   0   2   1   2   1   1]\n",
      " [  1   0   0   0 872   1   1   1   5   3   1   1   0   0   0   1]\n",
      " [  0   1   3   0   0 915   1   0   1   1   4   1   5   3   1   0]\n",
      " [  1   1   0   1   2   2 938   1   1   3   0   2   0   0   0   1]\n",
      " [  0   2   3   1   2   2   0 929   0   2   1   0   1   0   1   0]\n",
      " [  0   1   3   3   2   5   1   2 877   2   2   7   2   0   0   1]\n",
      " [  1   0   9   1   1   0   1   0   0 891   0   0   0   1   0   2]\n",
      " [  0   1   1   1   2   2   0   1   1   3 901   1   2   2   1   0]\n",
      " [  2   3   3   1   4   1   0   1   2   0   0 942   1   1   1   2]\n",
      " [  3   0   0   0   0   2   1   3   2   0   1   1 937   2   0   4]\n",
      " [  0   1   0   0   2   1   1   0   1   0   5   1   1 968   0   2]\n",
      " [  0   0   0   0   1   0   0   0   2   2   1   1   2   0 970   2]\n",
      " [  2   0   3   1   3   1   1   1   1   2   0   1   2   2   6 925]]\n"
     ]
    },
    {
     "data": {
      "text/plain": [
       "0.9806666666666667"
      ]
     },
     "execution_count": 62,
     "metadata": {},
     "output_type": "execute_result"
    }
   ],
   "source": [
    "#final k = 40\n",
    "from sklearn.metrics import confusion_matrix, accuracy_score\n",
    "cm = confusion_matrix(y_test, y_pred)\n",
    "print(cm)\n",
    "accuracy_score(y_test, y_pred)"
   ]
  },
  {
   "cell_type": "code",
   "execution_count": 64,
   "id": "c5aa0d74",
   "metadata": {},
   "outputs": [
    {
     "data": {
      "text/plain": [
       "['personality.pkl']"
      ]
     },
     "execution_count": 64,
     "metadata": {},
     "output_type": "execute_result"
    }
   ],
   "source": [
    "import joblib\n",
    "joblib.dump(classifier, \"personality.pkl\")"
   ]
  },
  {
   "cell_type": "code",
   "execution_count": null,
   "id": "06c3ccf1",
   "metadata": {},
   "outputs": [],
   "source": []
  }
 ],
 "metadata": {
  "kernelspec": {
   "display_name": "Python 3 (ipykernel)",
   "language": "python",
   "name": "python3"
  },
  "language_info": {
   "codemirror_mode": {
    "name": "ipython",
    "version": 3
   },
   "file_extension": ".py",
   "mimetype": "text/x-python",
   "name": "python",
   "nbconvert_exporter": "python",
   "pygments_lexer": "ipython3",
   "version": "3.11.5"
  }
 },
 "nbformat": 4,
 "nbformat_minor": 5
}
